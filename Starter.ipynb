{
  "nbformat": 4,
  "nbformat_minor": 0,
  "metadata": {
    "colab": {
      "provenance": [],
      "authorship_tag": "ABX9TyNlgp70sgWoWs8JdCYWgY1d",
      "include_colab_link": true
    },
    "kernelspec": {
      "name": "python3",
      "display_name": "Python 3"
    },
    "language_info": {
      "name": "python"
    }
  },
  "cells": [
    {
      "cell_type": "markdown",
      "metadata": {
        "id": "view-in-github",
        "colab_type": "text"
      },
      "source": [
        "<a href=\"https://colab.research.google.com/github/celestice106/ML-Utils/blob/main/Starter.ipynb\" target=\"_parent\"><img src=\"https://colab.research.google.com/assets/colab-badge.svg\" alt=\"Open In Colab\"/></a>"
      ]
    },
    {
      "cell_type": "code",
      "source": [
        "# Install required packages if missing\n",
        "try:\n",
        "    import torchmetrics, mlxtend\n",
        "    print(f\"mlxtend version: {mlxtend.__version__}\")\n",
        "    assert int(mlxtend.__version__.split(\".\")[1]) >= 19, \"mlxtend version should be 0.19.0 or higher\"\n",
        "except:\n",
        "    !pip install -q torchmetrics -U mlxtend\n",
        "    import torchmetrics, mlxtend\n",
        "    print(f\"mlxtend version: {mlxtend.__version__}\")\n",
        "\n",
        "# Import mlxtend upgraded version\n",
        "import mlxtend\n",
        "print(mlxtend.__version__)\n",
        "assert int(mlxtend.__version__.split(\".\")[1]) >= 19 # should be version 0.19.0 or higher"
      ],
      "metadata": {
        "id": "l_CV0Df5AP-N"
      },
      "execution_count": null,
      "outputs": []
    },
    {
      "cell_type": "code",
      "execution_count": null,
      "metadata": {
        "id": "_nVSBl9eNHxN"
      },
      "outputs": [],
      "source": [
        "# Step 1: Clone your GitHub repo\n",
        "!git clone https://github.com/celestice106/ML-Utils\n",
        "%cd ml-template\n",
        "\n",
        "# from utils import accuracy_fn\n"
      ]
    },
    {
      "cell_type": "code",
      "source": [
        "## Upload files\n",
        "\n",
        "from google.colab import files\n",
        "uploaded = files.upload()\n"
      ],
      "metadata": {
        "id": "9E5iKoBpGFSZ"
      },
      "execution_count": null,
      "outputs": []
    },
    {
      "cell_type": "code",
      "execution_count": null,
      "metadata": {
        "colab": {
          "base_uri": "https://localhost:8080/"
        },
        "id": "-gavsKpH_uDG",
        "outputId": "59cd6936-df9b-4e87-88e0-4bdb614d187c"
      },
      "outputs": [
        {
          "output_type": "stream",
          "name": "stdout",
          "text": [
            "Using device: cpu\n",
            "Current directory: /content/mnist_cnn_project\n",
            "Files: ['helper_functions.py', 'logs', 'data', '.ipynb_checkpoints', 'models', 'assets', '__pycache__']\n"
          ]
        }
      ],
      "source": [
        "## Import\n",
        "\n",
        "# Core\n",
        "import torch\n",
        "from torch import nn\n",
        "from torch.utils.data import DataLoader\n",
        "seed = 42\n",
        "torch.manual_seed(seed)\n",
        "\n",
        "# Torchvision for datasets and transforms\n",
        "from torchvision import datasets, transforms\n",
        "\n",
        "# Structure\n",
        "import os\n",
        "from datetime import datetime\n",
        "\n",
        "device = \"cuda\" if torch.cuda.is_available() else \"cpu\"\n",
        "print(f\"Using device: {device}\")\n",
        "\n",
        "import sys\n",
        "sys.path.append(\"/content/mnist_cnn_project\")\n",
        "\n",
        "\n",
        "import os\n",
        "print(\"Current directory:\", os.getcwd())\n",
        "print(\"Files:\", os.listdir())\n",
        "\n",
        "\n",
        "from helper_functions import train, plot_loss_curves, accuracy_fn"
      ]
    }
  ]
}